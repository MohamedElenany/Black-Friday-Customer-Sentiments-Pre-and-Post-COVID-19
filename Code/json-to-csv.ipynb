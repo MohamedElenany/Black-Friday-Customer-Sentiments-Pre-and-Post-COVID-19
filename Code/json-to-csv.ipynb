{
 "cells": [
  {
   "cell_type": "code",
   "execution_count": 4,
   "metadata": {},
   "outputs": [],
   "source": [
    "import json\n",
    "import csv\n",
    "\n",
    "# JSON file path\n",
    "input_file_path = r'C:\\Users\\valhk\\Documents\\MMA\\Text analytics\\Team project\\Reddit_extracts\\Anticonsumption_comments'\n",
    "# Path to output CSV\n",
    "output_file_path = 'C:\\\\Users\\\\valhk\\\\Documents\\\\MMA\\\\Text analytics\\\\Team project\\\\Reddit_extracts\\\\Anticonsumption_comments.csv'\n",
    "\n",
    "# Open the JSON file with UTF-8 encoding\n",
    "with open(input_file_path, 'r', encoding='utf-8') as json_file:\n",
    "    # Open or create the CSV file for writing\n",
    "    with open(output_file_path, mode='w', newline='', encoding='utf-8') as csv_file:\n",
    "        # Define the column names for the CSV\n",
    "        fieldnames = ['score', 'retrieved_on', 'subreddit_id', 'body']\n",
    "        # Initialize the CSV writer\n",
    "        writer = csv.DictWriter(csv_file, fieldnames=fieldnames)\n",
    "        \n",
    "        # Write the header row to the CSV file\n",
    "        writer.writeheader()\n",
    "        \n",
    "        # Iterate over each line (JSON object) in the file  \n",
    "        for line in json_file:\n",
    "            try:\n",
    "                # Parse the JSON object from the current line\n",
    "                item = json.loads(line)\n",
    "                \n",
    "                # Use the .get() method to safely access each field\n",
    "                writer.writerow({\n",
    "                    'score': item.get('score'),\n",
    "                    'retrieved_on': item.get('retrieved_on'),\n",
    "                    'subreddit_id': item.get('subreddit_id'),\n",
    "                    'body': item.get('body')\n",
    "                })\n",
    "            except json.JSONDecodeError as e:\n",
    "                print(f\"Error decoding JSON: {e}\")\n"
   ]
  }
 ],
 "metadata": {
  "kernelspec": {
   "display_name": "Python 3",
   "language": "python",
   "name": "python3"
  },
  "language_info": {
   "codemirror_mode": {
    "name": "ipython",
    "version": 3
   },
   "file_extension": ".py",
   "mimetype": "text/x-python",
   "name": "python",
   "nbconvert_exporter": "python",
   "pygments_lexer": "ipython3",
   "version": "3.11.1"
  }
 },
 "nbformat": 4,
 "nbformat_minor": 2
}
