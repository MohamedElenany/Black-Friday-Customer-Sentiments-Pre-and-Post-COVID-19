{
 "cells": [
  {
   "cell_type": "code",
   "execution_count": 59,
   "metadata": {},
   "outputs": [
    {
     "name": "stderr",
     "output_type": "stream",
     "text": [
      "[nltk_data] Downloading package punkt to\n",
      "[nltk_data]     C:\\Users\\valhk\\AppData\\Roaming\\nltk_data...\n",
      "[nltk_data]   Package punkt is already up-to-date!\n",
      "[nltk_data] Downloading package stopwords to\n",
      "[nltk_data]     C:\\Users\\valhk\\AppData\\Roaming\\nltk_data...\n",
      "[nltk_data]   Package stopwords is already up-to-date!\n"
     ]
    }
   ],
   "source": [
    "import csv\n",
    "import datetime\n",
    "import nltk\n",
    "import re\n",
    "from nltk.corpus import stopwords\n",
    "from nltk.tokenize import word_tokenize, RegexpTokenizer\n",
    "\n",
    "\n",
    "subname = 'blackfriday'\n",
    "nltk.download('punkt')\n",
    "nltk.download('stopwords')\n",
    "stop_words = set(stopwords.words('english'))\n",
    "\n",
    "input_file_path = r'C:\\Users\\valhk\\Documents\\MMA\\Text analytics\\Team project\\Reddit_extracts\\walmart_comments.csv'\n",
    "output_file_path = r'C:\\Users\\valhk\\Documents\\MMA\\Text analytics\\Team project\\Reddit_extracts\\walmart_blackfriday.csv'\n"
   ]
  },
  {
   "cell_type": "code",
   "execution_count": 60,
   "metadata": {},
   "outputs": [],
   "source": [
    "# Use a regular expression tokenizer to match only words (ignores punctuation)\n",
    "tokenizer = RegexpTokenizer(r'\\w+')\n",
    "# Function to calculate the extended Black Friday period\n",
    "def is_within_extended_period(date):\n",
    "    year = date.year\n",
    "    # Thanksgiving (fourth Thursday of November)\n",
    "    thanksgiving = datetime.datetime(year, 11, (22 + (3 - datetime.date(year, 11, 1).weekday() + 7) % 7))\n",
    "    # Start of the period: 3 days before Black Friday\n",
    "    start_period = thanksgiving - datetime.timedelta(days=3)\n",
    "    # End of the period: 4 days after Black Friday (after Cyber Monday)\n",
    "    end_period = thanksgiving + datetime.timedelta(days=4)\n",
    "    return start_period <= date <= end_period\n",
    "\n",
    "# Function to check for relevant keywords in the text\n",
    "def contains_relevant_keywords(text):\n",
    "    keywords = ['black friday', 'cyber monday', 'blackfriday', 'cybermonday']\n",
    "    text_lower = text.lower()\n",
    "    return any(keyword in text_lower for keyword in keywords)\n",
    "\n",
    "seen_bodies = set()\n",
    "\n",
    "with open(input_file_path, mode='r', newline='', encoding='utf-8') as infile, open(output_file_path, mode='w', newline='', encoding='utf-8') as outfile:\n",
    "    reader = csv.DictReader(infile)\n",
    "    fieldnames = reader.fieldnames\n",
    "    \n",
    "    writer = csv.DictWriter(outfile, fieldnames=fieldnames)\n",
    "    writer.writeheader()\n",
    "    \n",
    "    for row in reader:\n",
    "        if not all(row.values()) or row['body'] in ('[deleted]', '[removed]'):\n",
    "            continue\n",
    "        \n",
    "        word_tokens = tokenizer.tokenize(row['body'].lower())\n",
    "        filtered_sentence = [word for word in word_tokens if word.isalpha() and word not in stop_words]\n",
    "\n",
    "        clean_body = ' '.join(filtered_sentence)\n",
    "        \n",
    "        if clean_body in seen_bodies:\n",
    "            continue\n",
    "        else:\n",
    "            seen_bodies.add(clean_body)\n",
    "            #row['body'] = clean_body    depending on the output we want, we can keep the original body or the cleaned one or both\n",
    "            row['subreddit_id'] = 'walmart'\n",
    "        \n",
    "        try:\n",
    "            timestamp = datetime.datetime.utcfromtimestamp(int(row['retrieved_on']))\n",
    "            # Check if the comment is within the extended period or contains relevant keywords\n",
    "            if (timestamp.year < 2023 and timestamp.year >= 2018) and (is_within_extended_period(timestamp) or contains_relevant_keywords(row['body'])):\n",
    "                row['retrieved_on'] = timestamp.strftime(\"%Y-%m-%d\")\n",
    "                writer.writerow(row)\n",
    "        except ValueError:\n",
    "            continue"
   ]
  }
 ],
 "metadata": {
  "kernelspec": {
   "display_name": "Python 3",
   "language": "python",
   "name": "python3"
  },
  "language_info": {
   "codemirror_mode": {
    "name": "ipython",
    "version": 3
   },
   "file_extension": ".py",
   "mimetype": "text/x-python",
   "name": "python",
   "nbconvert_exporter": "python",
   "pygments_lexer": "ipython3",
   "version": "3.11.1"
  }
 },
 "nbformat": 4,
 "nbformat_minor": 2
}
