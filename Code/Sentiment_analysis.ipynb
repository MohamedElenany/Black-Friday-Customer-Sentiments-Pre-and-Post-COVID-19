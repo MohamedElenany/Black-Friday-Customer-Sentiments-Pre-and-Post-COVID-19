{
 "cells": [
  {
   "cell_type": "markdown",
   "metadata": {},
   "source": [
    "### Sentiment Analysis on Black Friday Reddit posts"
   ]
  },
  {
   "cell_type": "code",
   "execution_count": 6,
   "metadata": {},
   "outputs": [],
   "source": [
    "from vaderSentiment.vaderSentiment import SentimentIntensityAnalyzer\n",
    "import pandas as pd\n",
    "import numpy as np\n",
    "from sklearn.cluster import KMeans\n",
    "from sklearn.preprocessing import StandardScaler\n",
    "from sklearn.decomposition import PCA\n",
    "import matplotlib.pyplot as plt\n",
    "from sklearn.metrics import accuracy_score\n"
   ]
  },
  {
   "cell_type": "markdown",
   "metadata": {},
   "source": [
    "### VADER Approach"
   ]
  },
  {
   "cell_type": "code",
   "execution_count": 2,
   "metadata": {},
   "outputs": [
    {
     "data": {
      "text/html": [
       "<div>\n",
       "<style scoped>\n",
       "    .dataframe tbody tr th:only-of-type {\n",
       "        vertical-align: middle;\n",
       "    }\n",
       "\n",
       "    .dataframe tbody tr th {\n",
       "        vertical-align: top;\n",
       "    }\n",
       "\n",
       "    .dataframe thead th {\n",
       "        text-align: right;\n",
       "    }\n",
       "</style>\n",
       "<table border=\"1\" class=\"dataframe\">\n",
       "  <thead>\n",
       "    <tr style=\"text-align: right;\">\n",
       "      <th></th>\n",
       "      <th>retrieved_on</th>\n",
       "      <th>body</th>\n",
       "    </tr>\n",
       "  </thead>\n",
       "  <tbody>\n",
       "    <tr>\n",
       "      <th>0</th>\n",
       "      <td>2018-09-03</td>\n",
       "      <td>mini sale day like black friday cyber monday g...</td>\n",
       "    </tr>\n",
       "    <tr>\n",
       "      <th>1</th>\n",
       "      <td>2018-09-05</td>\n",
       "      <td>pretty sure like black friday liquidation sale...</td>\n",
       "    </tr>\n",
       "    <tr>\n",
       "      <th>2</th>\n",
       "      <td>2018-09-18</td>\n",
       "      <td>prime times amazon offered one day discount to...</td>\n",
       "    </tr>\n",
       "    <tr>\n",
       "      <th>3</th>\n",
       "      <td>2018-09-23</td>\n",
       "      <td>black friday probably</td>\n",
       "    </tr>\n",
       "    <tr>\n",
       "      <th>4</th>\n",
       "      <td>2018-09-23</td>\n",
       "      <td>cyber monday prime day also amazon amazing dea...</td>\n",
       "    </tr>\n",
       "    <tr>\n",
       "      <th>...</th>\n",
       "      <td>...</td>\n",
       "      <td>...</td>\n",
       "    </tr>\n",
       "    <tr>\n",
       "      <th>49304</th>\n",
       "      <td>2022-12-14</td>\n",
       "      <td>blitz used call black friday sales learned ter...</td>\n",
       "    </tr>\n",
       "    <tr>\n",
       "      <th>49305</th>\n",
       "      <td>2022-12-14</td>\n",
       "      <td>dispel myth played cool said true wide open pi...</td>\n",
       "    </tr>\n",
       "    <tr>\n",
       "      <th>49306</th>\n",
       "      <td>2022-12-14</td>\n",
       "      <td>yup problem capitalism monetary incentive give...</td>\n",
       "    </tr>\n",
       "    <tr>\n",
       "      <th>49307</th>\n",
       "      <td>2022-12-14</td>\n",
       "      <td>whole pallet pw crockpots leftover black frida...</td>\n",
       "    </tr>\n",
       "    <tr>\n",
       "      <th>49308</th>\n",
       "      <td>2022-12-14</td>\n",
       "      <td>yup specific happens often like black friday r...</td>\n",
       "    </tr>\n",
       "  </tbody>\n",
       "</table>\n",
       "<p>49309 rows × 2 columns</p>\n",
       "</div>"
      ],
      "text/plain": [
       "      retrieved_on                                               body\n",
       "0       2018-09-03  mini sale day like black friday cyber monday g...\n",
       "1       2018-09-05  pretty sure like black friday liquidation sale...\n",
       "2       2018-09-18  prime times amazon offered one day discount to...\n",
       "3       2018-09-23                              black friday probably\n",
       "4       2018-09-23  cyber monday prime day also amazon amazing dea...\n",
       "...            ...                                                ...\n",
       "49304   2022-12-14  blitz used call black friday sales learned ter...\n",
       "49305   2022-12-14  dispel myth played cool said true wide open pi...\n",
       "49306   2022-12-14  yup problem capitalism monetary incentive give...\n",
       "49307   2022-12-14  whole pallet pw crockpots leftover black frida...\n",
       "49308   2022-12-14  yup specific happens often like black friday r...\n",
       "\n",
       "[49309 rows x 2 columns]"
      ]
     },
     "execution_count": 2,
     "metadata": {},
     "output_type": "execute_result"
    }
   ],
   "source": [
    "originalPosts = pd.read_csv('combined_blackfriday.csv')\n",
    "originalPosts = originalPosts.drop(['score','subreddit_id','score'], axis=1)\n",
    "originalPosts"
   ]
  },
  {
   "cell_type": "code",
   "execution_count": 3,
   "metadata": {},
   "outputs": [
    {
     "data": {
      "text/html": [
       "<div>\n",
       "<style scoped>\n",
       "    .dataframe tbody tr th:only-of-type {\n",
       "        vertical-align: middle;\n",
       "    }\n",
       "\n",
       "    .dataframe tbody tr th {\n",
       "        vertical-align: top;\n",
       "    }\n",
       "\n",
       "    .dataframe thead th {\n",
       "        text-align: right;\n",
       "    }\n",
       "</style>\n",
       "<table border=\"1\" class=\"dataframe\">\n",
       "  <thead>\n",
       "    <tr style=\"text-align: right;\">\n",
       "      <th></th>\n",
       "      <th>retrieved_on</th>\n",
       "      <th>body</th>\n",
       "      <th>Sentiment</th>\n",
       "      <th>Sentiment_Score</th>\n",
       "    </tr>\n",
       "  </thead>\n",
       "  <tbody>\n",
       "    <tr>\n",
       "      <th>0</th>\n",
       "      <td>2018-09-03</td>\n",
       "      <td>mini sale day like black friday cyber monday g...</td>\n",
       "      <td>Positive</td>\n",
       "      <td>0.9282</td>\n",
       "    </tr>\n",
       "    <tr>\n",
       "      <th>1</th>\n",
       "      <td>2018-09-05</td>\n",
       "      <td>pretty sure like black friday liquidation sale...</td>\n",
       "      <td>Positive</td>\n",
       "      <td>0.7184</td>\n",
       "    </tr>\n",
       "    <tr>\n",
       "      <th>2</th>\n",
       "      <td>2018-09-18</td>\n",
       "      <td>prime times amazon offered one day discount to...</td>\n",
       "      <td>Positive</td>\n",
       "      <td>0.9729</td>\n",
       "    </tr>\n",
       "    <tr>\n",
       "      <th>3</th>\n",
       "      <td>2018-09-23</td>\n",
       "      <td>black friday probably</td>\n",
       "      <td>Neutral</td>\n",
       "      <td>0.0000</td>\n",
       "    </tr>\n",
       "    <tr>\n",
       "      <th>4</th>\n",
       "      <td>2018-09-23</td>\n",
       "      <td>cyber monday prime day also amazon amazing dea...</td>\n",
       "      <td>Positive</td>\n",
       "      <td>0.6705</td>\n",
       "    </tr>\n",
       "    <tr>\n",
       "      <th>...</th>\n",
       "      <td>...</td>\n",
       "      <td>...</td>\n",
       "      <td>...</td>\n",
       "      <td>...</td>\n",
       "    </tr>\n",
       "    <tr>\n",
       "      <th>49304</th>\n",
       "      <td>2022-12-14</td>\n",
       "      <td>blitz used call black friday sales learned ter...</td>\n",
       "      <td>Positive</td>\n",
       "      <td>0.3400</td>\n",
       "    </tr>\n",
       "    <tr>\n",
       "      <th>49305</th>\n",
       "      <td>2022-12-14</td>\n",
       "      <td>dispel myth played cool said true wide open pi...</td>\n",
       "      <td>Positive</td>\n",
       "      <td>0.7184</td>\n",
       "    </tr>\n",
       "    <tr>\n",
       "      <th>49306</th>\n",
       "      <td>2022-12-14</td>\n",
       "      <td>yup problem capitalism monetary incentive give...</td>\n",
       "      <td>Negative</td>\n",
       "      <td>-0.2500</td>\n",
       "    </tr>\n",
       "    <tr>\n",
       "      <th>49307</th>\n",
       "      <td>2022-12-14</td>\n",
       "      <td>whole pallet pw crockpots leftover black frida...</td>\n",
       "      <td>Positive</td>\n",
       "      <td>0.1027</td>\n",
       "    </tr>\n",
       "    <tr>\n",
       "      <th>49308</th>\n",
       "      <td>2022-12-14</td>\n",
       "      <td>yup specific happens often like black friday r...</td>\n",
       "      <td>Positive</td>\n",
       "      <td>0.8360</td>\n",
       "    </tr>\n",
       "  </tbody>\n",
       "</table>\n",
       "<p>49309 rows × 4 columns</p>\n",
       "</div>"
      ],
      "text/plain": [
       "      retrieved_on                                               body  \\\n",
       "0       2018-09-03  mini sale day like black friday cyber monday g...   \n",
       "1       2018-09-05  pretty sure like black friday liquidation sale...   \n",
       "2       2018-09-18  prime times amazon offered one day discount to...   \n",
       "3       2018-09-23                              black friday probably   \n",
       "4       2018-09-23  cyber monday prime day also amazon amazing dea...   \n",
       "...            ...                                                ...   \n",
       "49304   2022-12-14  blitz used call black friday sales learned ter...   \n",
       "49305   2022-12-14  dispel myth played cool said true wide open pi...   \n",
       "49306   2022-12-14  yup problem capitalism monetary incentive give...   \n",
       "49307   2022-12-14  whole pallet pw crockpots leftover black frida...   \n",
       "49308   2022-12-14  yup specific happens often like black friday r...   \n",
       "\n",
       "      Sentiment  Sentiment_Score  \n",
       "0      Positive           0.9282  \n",
       "1      Positive           0.7184  \n",
       "2      Positive           0.9729  \n",
       "3       Neutral           0.0000  \n",
       "4      Positive           0.6705  \n",
       "...         ...              ...  \n",
       "49304  Positive           0.3400  \n",
       "49305  Positive           0.7184  \n",
       "49306  Negative          -0.2500  \n",
       "49307  Positive           0.1027  \n",
       "49308  Positive           0.8360  \n",
       "\n",
       "[49309 rows x 4 columns]"
      ]
     },
     "execution_count": 3,
     "metadata": {},
     "output_type": "execute_result"
    }
   ],
   "source": [
    "def Sentiment_converter(compound):\n",
    "    if compound >= 0.1:\n",
    "        return 'Positive'\n",
    "    elif compound <= -0.1:\n",
    "        return 'Negative'\n",
    "    else:\n",
    "        return 'Neutral'\n",
    "\n",
    "vader = SentimentIntensityAnalyzer()\n",
    "\n",
    "for i in range(len(originalPosts)):\n",
    "    line = originalPosts['body'][i]\n",
    "    vs = vader.polarity_scores(line)\n",
    "    originalPosts.loc[i, 'Sentiment'] = Sentiment_converter(vs['compound'])\n",
    "    originalPosts.loc[i, 'Sentiment_Score'] = (vs['compound'])\n",
    "\n",
    "originalPosts"
   ]
  },
  {
   "cell_type": "code",
   "execution_count": 4,
   "metadata": {},
   "outputs": [
    {
     "data": {
      "text/plain": [
       "Sentiment\n",
       "Positive    26002\n",
       "Neutral     14746\n",
       "Negative     8561\n",
       "Name: count, dtype: int64"
      ]
     },
     "execution_count": 4,
     "metadata": {},
     "output_type": "execute_result"
    }
   ],
   "source": [
    "originalPosts['Sentiment'].value_counts()"
   ]
  },
  {
   "cell_type": "markdown",
   "metadata": {},
   "source": [
    "### Clustering Approach:"
   ]
  },
  {
   "cell_type": "markdown",
   "metadata": {},
   "source": [
    "The following is a function that runs K-means on the tf-idf/counts data to cluster the posts into 3 clusters, either positive, negative, or neutural based on word similarity between them. It then uses a pca to reduce the data and plot the cluster representation for visual assesment."
   ]
  },
  {
   "cell_type": "code",
   "execution_count": 55,
   "metadata": {},
   "outputs": [],
   "source": [
    "def plot_kmeans_clusters(dataframe, title, num_clusters=3):\n",
    "    # Standardize the data\n",
    "    #since k-means is highly sensitive to scale, we need to scale the data before we can use it\n",
    "    #scaler = StandardScaler()\n",
    "    #scaled_data = scaler.fit_transform(dataframe)\n",
    "    scaled_data = dataframe\n",
    "    # Apply PCA to reduce the data to two dimensions\n",
    "    pca = PCA(n_components=2)\n",
    "    pca_result = pca.fit_transform(scaled_data)\n",
    "\n",
    "    # Apply K-Means clustering\n",
    "    #generate 3 clusters for negative, positive, and neutral sentiments\n",
    "    kmeans = KMeans(n_clusters=num_clusters, random_state=42)\n",
    "    dataframe['cluster'] = kmeans.fit_predict(scaled_data)\n",
    "\n",
    "    # Plot the clusters\n",
    "    colors = ['red', 'green', 'blue']\n",
    "\n",
    "    for cluster_num in range(num_clusters):\n",
    "        cluster_points = pca_result[dataframe['cluster'] == cluster_num]\n",
    "        plt.scatter(cluster_points[:, 0], cluster_points[:, 1], color=colors[cluster_num], label=f'Cluster {cluster_num + 1}')\n",
    "\n",
    "    plt.title('K-Means Clustering with PCA')\n",
    "    plt.xlabel('Principal Component 1')\n",
    "    plt.ylabel('Principal Component 2')\n",
    "    plt.legend()\n",
    "    plt.show()\n",
    "    return dataframe"
   ]
  },
  {
   "cell_type": "markdown",
   "metadata": {},
   "source": [
    "#### Monograms"
   ]
  },
  {
   "cell_type": "markdown",
   "metadata": {},
   "source": [
    "I will first compare the performance of monogram TF-IDF v count vectorizers. The reason behind this comparison is to observe and decide which representation of the data offers a better post representation on the plot."
   ]
  },
  {
   "cell_type": "markdown",
   "metadata": {},
   "source": [
    "##### Count Vectorizer:"
   ]
  },
  {
   "cell_type": "code",
   "execution_count": 23,
   "metadata": {},
   "outputs": [],
   "source": [
    "monogram_countVec = pd.read_csv('monograms_count_lemmatized1.csv')"
   ]
  },
  {
   "cell_type": "code",
   "execution_count": 30,
   "metadata": {},
   "outputs": [
    {
     "data": {
      "text/html": [
       "<div>\n",
       "<style scoped>\n",
       "    .dataframe tbody tr th:only-of-type {\n",
       "        vertical-align: middle;\n",
       "    }\n",
       "\n",
       "    .dataframe tbody tr th {\n",
       "        vertical-align: top;\n",
       "    }\n",
       "\n",
       "    .dataframe thead th {\n",
       "        text-align: right;\n",
       "    }\n",
       "</style>\n",
       "<table border=\"1\" class=\"dataframe\">\n",
       "  <thead>\n",
       "    <tr style=\"text-align: right;\">\n",
       "      <th></th>\n",
       "      <th>aa</th>\n",
       "      <th>aaa</th>\n",
       "      <th>aafes</th>\n",
       "      <th>abandon</th>\n",
       "      <th>ability</th>\n",
       "      <th>able</th>\n",
       "      <th>absence</th>\n",
       "      <th>absolute</th>\n",
       "      <th>absolutely</th>\n",
       "      <th>absurd</th>\n",
       "      <th>...</th>\n",
       "      <th>yrs</th>\n",
       "      <th>yup</th>\n",
       "      <th>z</th>\n",
       "      <th>zelda</th>\n",
       "      <th>zero</th>\n",
       "      <th>zip</th>\n",
       "      <th>zombie</th>\n",
       "      <th>zone</th>\n",
       "      <th>zoo</th>\n",
       "      <th>zoom</th>\n",
       "    </tr>\n",
       "  </thead>\n",
       "  <tbody>\n",
       "    <tr>\n",
       "      <th>0</th>\n",
       "      <td>0</td>\n",
       "      <td>0</td>\n",
       "      <td>0</td>\n",
       "      <td>0</td>\n",
       "      <td>0</td>\n",
       "      <td>0</td>\n",
       "      <td>0</td>\n",
       "      <td>0</td>\n",
       "      <td>0</td>\n",
       "      <td>0</td>\n",
       "      <td>...</td>\n",
       "      <td>0</td>\n",
       "      <td>0</td>\n",
       "      <td>0</td>\n",
       "      <td>0</td>\n",
       "      <td>0</td>\n",
       "      <td>0</td>\n",
       "      <td>0</td>\n",
       "      <td>0</td>\n",
       "      <td>0</td>\n",
       "      <td>0</td>\n",
       "    </tr>\n",
       "    <tr>\n",
       "      <th>1</th>\n",
       "      <td>0</td>\n",
       "      <td>0</td>\n",
       "      <td>0</td>\n",
       "      <td>0</td>\n",
       "      <td>0</td>\n",
       "      <td>0</td>\n",
       "      <td>0</td>\n",
       "      <td>0</td>\n",
       "      <td>0</td>\n",
       "      <td>0</td>\n",
       "      <td>...</td>\n",
       "      <td>0</td>\n",
       "      <td>0</td>\n",
       "      <td>0</td>\n",
       "      <td>0</td>\n",
       "      <td>0</td>\n",
       "      <td>0</td>\n",
       "      <td>0</td>\n",
       "      <td>0</td>\n",
       "      <td>0</td>\n",
       "      <td>0</td>\n",
       "    </tr>\n",
       "    <tr>\n",
       "      <th>2</th>\n",
       "      <td>0</td>\n",
       "      <td>0</td>\n",
       "      <td>0</td>\n",
       "      <td>0</td>\n",
       "      <td>0</td>\n",
       "      <td>0</td>\n",
       "      <td>0</td>\n",
       "      <td>0</td>\n",
       "      <td>0</td>\n",
       "      <td>0</td>\n",
       "      <td>...</td>\n",
       "      <td>0</td>\n",
       "      <td>0</td>\n",
       "      <td>0</td>\n",
       "      <td>0</td>\n",
       "      <td>0</td>\n",
       "      <td>0</td>\n",
       "      <td>0</td>\n",
       "      <td>0</td>\n",
       "      <td>0</td>\n",
       "      <td>0</td>\n",
       "    </tr>\n",
       "    <tr>\n",
       "      <th>3</th>\n",
       "      <td>0</td>\n",
       "      <td>0</td>\n",
       "      <td>0</td>\n",
       "      <td>0</td>\n",
       "      <td>0</td>\n",
       "      <td>0</td>\n",
       "      <td>0</td>\n",
       "      <td>0</td>\n",
       "      <td>0</td>\n",
       "      <td>0</td>\n",
       "      <td>...</td>\n",
       "      <td>0</td>\n",
       "      <td>0</td>\n",
       "      <td>0</td>\n",
       "      <td>0</td>\n",
       "      <td>0</td>\n",
       "      <td>0</td>\n",
       "      <td>0</td>\n",
       "      <td>0</td>\n",
       "      <td>0</td>\n",
       "      <td>0</td>\n",
       "    </tr>\n",
       "    <tr>\n",
       "      <th>4</th>\n",
       "      <td>0</td>\n",
       "      <td>0</td>\n",
       "      <td>0</td>\n",
       "      <td>0</td>\n",
       "      <td>0</td>\n",
       "      <td>0</td>\n",
       "      <td>0</td>\n",
       "      <td>0</td>\n",
       "      <td>0</td>\n",
       "      <td>0</td>\n",
       "      <td>...</td>\n",
       "      <td>0</td>\n",
       "      <td>0</td>\n",
       "      <td>0</td>\n",
       "      <td>0</td>\n",
       "      <td>0</td>\n",
       "      <td>0</td>\n",
       "      <td>0</td>\n",
       "      <td>0</td>\n",
       "      <td>0</td>\n",
       "      <td>0</td>\n",
       "    </tr>\n",
       "  </tbody>\n",
       "</table>\n",
       "<p>5 rows × 5000 columns</p>\n",
       "</div>"
      ],
      "text/plain": [
       "   aa  aaa  aafes  abandon  ability  able  absence  absolute  absolutely  \\\n",
       "0   0    0      0        0        0     0        0         0           0   \n",
       "1   0    0      0        0        0     0        0         0           0   \n",
       "2   0    0      0        0        0     0        0         0           0   \n",
       "3   0    0      0        0        0     0        0         0           0   \n",
       "4   0    0      0        0        0     0        0         0           0   \n",
       "\n",
       "   absurd  ...  yrs  yup  z  zelda  zero  zip  zombie  zone  zoo  zoom  \n",
       "0       0  ...    0    0  0      0     0    0       0     0    0     0  \n",
       "1       0  ...    0    0  0      0     0    0       0     0    0     0  \n",
       "2       0  ...    0    0  0      0     0    0       0     0    0     0  \n",
       "3       0  ...    0    0  0      0     0    0       0     0    0     0  \n",
       "4       0  ...    0    0  0      0     0    0       0     0    0     0  \n",
       "\n",
       "[5 rows x 5000 columns]"
      ]
     },
     "execution_count": 30,
     "metadata": {},
     "output_type": "execute_result"
    }
   ],
   "source": [
    "monogram_countVec.drop(['subreddit_id','var_year','score'], axis=1, inplace=True)\n",
    "monogram_countVec.head()"
   ]
  },
  {
   "cell_type": "code",
   "execution_count": 60,
   "metadata": {},
   "outputs": [
    {
     "data": {
      "image/png": "[encoded data removed]",
      "text/plain": [
       "<Figure size 640x480 with 1 Axes>"
      ]
     },
     "metadata": {},
     "output_type": "display_data"
    }
   ],
   "source": [
    "monogram_count = plot_kmeans_clusters(monogram_countVec, 'Monogram Count Vectorizer', num_clusters=3)"
   ]
  },
  {
   "cell_type": "code",
   "execution_count": 63,
   "metadata": {},
   "outputs": [
    {
     "data": {
      "text/plain": [
       "cluster\n",
       "1    49301\n",
       "2        5\n",
       "0        3\n",
       "Name: count, dtype: int64"
      ]
     },
     "execution_count": 63,
     "metadata": {},
     "output_type": "execute_result"
    }
   ],
   "source": [
    "monogram_count['cluster'].value_counts()"
   ]
  },
  {
   "cell_type": "markdown",
   "metadata": {},
   "source": [
    "The count vectorizer does not do a good job in representing the posts on the graph, which is one of the reasons why the k-means did not perform well in clustering the posts into sentiments, with nearly all points in one cluster only. Thus, with count vectorizer, the k-means algorithm fails to recognize differences in posts by their word composition."
   ]
  },
  {
   "cell_type": "markdown",
   "metadata": {},
   "source": [
    "##### TF-IDF:"
   ]
  },
  {
   "cell_type": "code",
   "execution_count": 33,
   "metadata": {},
   "outputs": [
    {
     "data": {
      "text/html": [
       "<div>\n",
       "<style scoped>\n",
       "    .dataframe tbody tr th:only-of-type {\n",
       "        vertical-align: middle;\n",
       "    }\n",
       "\n",
       "    .dataframe tbody tr th {\n",
       "        vertical-align: top;\n",
       "    }\n",
       "\n",
       "    .dataframe thead th {\n",
       "        text-align: right;\n",
       "    }\n",
       "</style>\n",
       "<table border=\"1\" class=\"dataframe\">\n",
       "  <thead>\n",
       "    <tr style=\"text-align: right;\">\n",
       "      <th></th>\n",
       "      <th>aa</th>\n",
       "      <th>aaa</th>\n",
       "      <th>aafes</th>\n",
       "      <th>abandon</th>\n",
       "      <th>ability</th>\n",
       "      <th>able</th>\n",
       "      <th>absence</th>\n",
       "      <th>absolute</th>\n",
       "      <th>absolutely</th>\n",
       "      <th>absurd</th>\n",
       "      <th>...</th>\n",
       "      <th>yr</th>\n",
       "      <th>yrs</th>\n",
       "      <th>yup</th>\n",
       "      <th>z</th>\n",
       "      <th>zelda</th>\n",
       "      <th>zero</th>\n",
       "      <th>zip</th>\n",
       "      <th>zombie</th>\n",
       "      <th>zone</th>\n",
       "      <th>zoom</th>\n",
       "    </tr>\n",
       "  </thead>\n",
       "  <tbody>\n",
       "    <tr>\n",
       "      <th>0</th>\n",
       "      <td>0.0</td>\n",
       "      <td>0.0</td>\n",
       "      <td>0.0</td>\n",
       "      <td>0.0</td>\n",
       "      <td>0.0</td>\n",
       "      <td>0.0</td>\n",
       "      <td>0.0</td>\n",
       "      <td>0.0</td>\n",
       "      <td>0.0</td>\n",
       "      <td>0.0</td>\n",
       "      <td>...</td>\n",
       "      <td>0.0</td>\n",
       "      <td>0.0</td>\n",
       "      <td>0.0</td>\n",
       "      <td>0.0</td>\n",
       "      <td>0.0</td>\n",
       "      <td>0.0</td>\n",
       "      <td>0.0</td>\n",
       "      <td>0.0</td>\n",
       "      <td>0.0</td>\n",
       "      <td>0.0</td>\n",
       "    </tr>\n",
       "    <tr>\n",
       "      <th>1</th>\n",
       "      <td>0.0</td>\n",
       "      <td>0.0</td>\n",
       "      <td>0.0</td>\n",
       "      <td>0.0</td>\n",
       "      <td>0.0</td>\n",
       "      <td>0.0</td>\n",
       "      <td>0.0</td>\n",
       "      <td>0.0</td>\n",
       "      <td>0.0</td>\n",
       "      <td>0.0</td>\n",
       "      <td>...</td>\n",
       "      <td>0.0</td>\n",
       "      <td>0.0</td>\n",
       "      <td>0.0</td>\n",
       "      <td>0.0</td>\n",
       "      <td>0.0</td>\n",
       "      <td>0.0</td>\n",
       "      <td>0.0</td>\n",
       "      <td>0.0</td>\n",
       "      <td>0.0</td>\n",
       "      <td>0.0</td>\n",
       "    </tr>\n",
       "    <tr>\n",
       "      <th>2</th>\n",
       "      <td>0.0</td>\n",
       "      <td>0.0</td>\n",
       "      <td>0.0</td>\n",
       "      <td>0.0</td>\n",
       "      <td>0.0</td>\n",
       "      <td>0.0</td>\n",
       "      <td>0.0</td>\n",
       "      <td>0.0</td>\n",
       "      <td>0.0</td>\n",
       "      <td>0.0</td>\n",
       "      <td>...</td>\n",
       "      <td>0.0</td>\n",
       "      <td>0.0</td>\n",
       "      <td>0.0</td>\n",
       "      <td>0.0</td>\n",
       "      <td>0.0</td>\n",
       "      <td>0.0</td>\n",
       "      <td>0.0</td>\n",
       "      <td>0.0</td>\n",
       "      <td>0.0</td>\n",
       "      <td>0.0</td>\n",
       "    </tr>\n",
       "    <tr>\n",
       "      <th>3</th>\n",
       "      <td>0.0</td>\n",
       "      <td>0.0</td>\n",
       "      <td>0.0</td>\n",
       "      <td>0.0</td>\n",
       "      <td>0.0</td>\n",
       "      <td>0.0</td>\n",
       "      <td>0.0</td>\n",
       "      <td>0.0</td>\n",
       "      <td>0.0</td>\n",
       "      <td>0.0</td>\n",
       "      <td>...</td>\n",
       "      <td>0.0</td>\n",
       "      <td>0.0</td>\n",
       "      <td>0.0</td>\n",
       "      <td>0.0</td>\n",
       "      <td>0.0</td>\n",
       "      <td>0.0</td>\n",
       "      <td>0.0</td>\n",
       "      <td>0.0</td>\n",
       "      <td>0.0</td>\n",
       "      <td>0.0</td>\n",
       "    </tr>\n",
       "    <tr>\n",
       "      <th>4</th>\n",
       "      <td>0.0</td>\n",
       "      <td>0.0</td>\n",
       "      <td>0.0</td>\n",
       "      <td>0.0</td>\n",
       "      <td>0.0</td>\n",
       "      <td>0.0</td>\n",
       "      <td>0.0</td>\n",
       "      <td>0.0</td>\n",
       "      <td>0.0</td>\n",
       "      <td>0.0</td>\n",
       "      <td>...</td>\n",
       "      <td>0.0</td>\n",
       "      <td>0.0</td>\n",
       "      <td>0.0</td>\n",
       "      <td>0.0</td>\n",
       "      <td>0.0</td>\n",
       "      <td>0.0</td>\n",
       "      <td>0.0</td>\n",
       "      <td>0.0</td>\n",
       "      <td>0.0</td>\n",
       "      <td>0.0</td>\n",
       "    </tr>\n",
       "  </tbody>\n",
       "</table>\n",
       "<p>5 rows × 5000 columns</p>\n",
       "</div>"
      ],
      "text/plain": [
       "    aa  aaa  aafes  abandon  ability  able  absence  absolute  absolutely  \\\n",
       "0  0.0  0.0    0.0      0.0      0.0   0.0      0.0       0.0         0.0   \n",
       "1  0.0  0.0    0.0      0.0      0.0   0.0      0.0       0.0         0.0   \n",
       "2  0.0  0.0    0.0      0.0      0.0   0.0      0.0       0.0         0.0   \n",
       "3  0.0  0.0    0.0      0.0      0.0   0.0      0.0       0.0         0.0   \n",
       "4  0.0  0.0    0.0      0.0      0.0   0.0      0.0       0.0         0.0   \n",
       "\n",
       "   absurd  ...   yr  yrs  yup    z  zelda  zero  zip  zombie  zone  zoom  \n",
       "0     0.0  ...  0.0  0.0  0.0  0.0    0.0   0.0  0.0     0.0   0.0   0.0  \n",
       "1     0.0  ...  0.0  0.0  0.0  0.0    0.0   0.0  0.0     0.0   0.0   0.0  \n",
       "2     0.0  ...  0.0  0.0  0.0  0.0    0.0   0.0  0.0     0.0   0.0   0.0  \n",
       "3     0.0  ...  0.0  0.0  0.0  0.0    0.0   0.0  0.0     0.0   0.0   0.0  \n",
       "4     0.0  ...  0.0  0.0  0.0  0.0    0.0   0.0  0.0     0.0   0.0   0.0  \n",
       "\n",
       "[5 rows x 5000 columns]"
      ]
     },
     "execution_count": 33,
     "metadata": {},
     "output_type": "execute_result"
    }
   ],
   "source": [
    "monogram_tfidf = pd.read_csv('monograms_count_tfidf_lemmatized.csv')\n",
    "monogram_tfidf.drop(['subreddit_id','var_year','score'], axis=1, inplace=True)\n",
    "monogram_tfidf.head()"
   ]
  },
  {
   "cell_type": "code",
   "execution_count": 61,
   "metadata": {},
   "outputs": [
    {
     "data": {
      "image/png": "[encoded data removed]",
      "text/plain": [
       "<Figure size 640x480 with 1 Axes>"
      ]
     },
     "metadata": {},
     "output_type": "display_data"
    }
   ],
   "source": [
    "monogram_tf = plot_kmeans_clusters(monogram_tfidf,'Monogram TF-IDF')"
   ]
  },
  {
   "cell_type": "code",
   "execution_count": 64,
   "metadata": {},
   "outputs": [
    {
     "data": {
      "text/plain": [
       "cluster\n",
       "0    32313\n",
       "1    12202\n",
       "2     4794\n",
       "Name: count, dtype: int64"
      ]
     },
     "execution_count": 64,
     "metadata": {},
     "output_type": "execute_result"
    }
   ],
   "source": [
    "monogram_tfidf['cluster'].value_counts()"
   ]
  },
  {
   "cell_type": "markdown",
   "metadata": {},
   "source": [
    "The word represntation using TF-IDF allows a substatially better plot representation and segregation on the plot, thus when the k-means was ran, it was able to successfully cluster points into 3 clusters of acceptable size. Therefore, for the rest of the code, I will only rely on TF-IDF representation of words. \n",
    "\n",
    "Now, I will compare the similarity of the cluster assignments made by the clustering against that made by Vader."
   ]
  },
  {
   "cell_type": "code",
   "execution_count": 86,
   "metadata": {},
   "outputs": [
    {
     "name": "stdout",
     "output_type": "stream",
     "text": [
      "pretty sure like black friday liquidation sales people go nuts buy things even need want psychologically think afford\n",
      "black friday probably\n",
      "-----------------------------------\n",
      "prime times amazon offered one day discount took advantage expedited shipping discovered movies took advantage noticed shipping took longer two years prime back back movies wanted watch available prime prices everything slowly moving upward learned buying prime spending time watching mediocre movies getting many book reviews done got behind reviews dollar general store came neighborhood right way home work checked realized prices stuff getting via subscribe save much cheaper dollar general oh many cardboard boxes break trips recycling center best deals black friday mother day six months thinking prime monthly basis six months every year travel summer shop much people amazon came prime day july help summer sales miss prime save money plenty good movies watch free tubitv com\n",
      "tried thursday black friday deals cell phone bought phone realized gift card could convert amazon gift card use towards purchase canceled order mins took cancel phone sold created account showed selling phone original price ended ordering someone else phone show back saturday even less previous sale price point canceling save couple dollars end biting ass interested deal knows many others also looking buy could sell leaving able get sale price also money put back account second cancel several day wait\n"
     ]
    }
   ],
   "source": [
    "index = monogram_tfidf[monogram_tfidf['cluster'] == 1].index[0:2]\n",
    "for i in index:\n",
    "    print(originalPosts['body'][i])\n",
    "\n",
    "print(\"-----------------------------------\")\n",
    "#try new cluster\n",
    "index = monogram_tfidf[monogram_tfidf['cluster'] == 0].index[0:2]\n",
    "for i in index:\n",
    "    print(originalPosts['body'][i])\n"
   ]
  },
  {
   "cell_type": "markdown",
   "metadata": {},
   "source": [
    "From the above, I can say that cluster 1 is the neutral posts and cluster 0 is the positive posts, leaving cluster 2 as negative"
   ]
  },
  {
   "cell_type": "code",
   "execution_count": 90,
   "metadata": {},
   "outputs": [
    {
     "name": "stdout",
     "output_type": "stream",
     "text": [
      "Monogram TF-IDF Clustering Sentiment Similarity with VADER: 41.24%\n"
     ]
    }
   ],
   "source": [
    "monogram_tfidf['cluster'] = monogram_tfidf['cluster'].replace({0: 'Positive', 1: 'Neutral', 2: 'Negative'})\n",
    "similarity = accuracy_score(originalPosts['Sentiment'], monogram_tfidf['cluster'])\n",
    "\n",
    "print(f'Monogram TF-IDF Clustering Sentiment Similarity with VADER: {similarity * 100:.2f}%')"
   ]
  },
  {
   "cell_type": "markdown",
   "metadata": {},
   "source": [
    "#### Bigram"
   ]
  },
  {
   "cell_type": "code",
   "execution_count": 107,
   "metadata": {},
   "outputs": [
    {
     "data": {
      "text/html": [
       "<div>\n",
       "<style scoped>\n",
       "    .dataframe tbody tr th:only-of-type {\n",
       "        vertical-align: middle;\n",
       "    }\n",
       "\n",
       "    .dataframe tbody tr th {\n",
       "        vertical-align: top;\n",
       "    }\n",
       "\n",
       "    .dataframe thead th {\n",
       "        text-align: right;\n",
       "    }\n",
       "</style>\n",
       "<table border=\"1\" class=\"dataframe\">\n",
       "  <thead>\n",
       "    <tr style=\"text-align: right;\">\n",
       "      <th></th>\n",
       "      <th>able buy</th>\n",
       "      <th>able find</th>\n",
       "      <th>able get</th>\n",
       "      <th>able go</th>\n",
       "      <th>able order</th>\n",
       "      <th>able pick</th>\n",
       "      <th>able price</th>\n",
       "      <th>able see</th>\n",
       "      <th>able snag</th>\n",
       "      <th>able use</th>\n",
       "      <th>...</th>\n",
       "      <th>year worth</th>\n",
       "      <th>year would</th>\n",
       "      <th>year year</th>\n",
       "      <th>yes black</th>\n",
       "      <th>yes know</th>\n",
       "      <th>yes use</th>\n",
       "      <th>yes would</th>\n",
       "      <th>yet still</th>\n",
       "      <th>youtube com</th>\n",
       "      <th>zero dawn</th>\n",
       "    </tr>\n",
       "  </thead>\n",
       "  <tbody>\n",
       "    <tr>\n",
       "      <th>0</th>\n",
       "      <td>0.0</td>\n",
       "      <td>0.0</td>\n",
       "      <td>0.0</td>\n",
       "      <td>0.0</td>\n",
       "      <td>0.0</td>\n",
       "      <td>0.0</td>\n",
       "      <td>0.0</td>\n",
       "      <td>0.0</td>\n",
       "      <td>0.0</td>\n",
       "      <td>0.0</td>\n",
       "      <td>...</td>\n",
       "      <td>0.0</td>\n",
       "      <td>0.0</td>\n",
       "      <td>0.0</td>\n",
       "      <td>0.0</td>\n",
       "      <td>0.0</td>\n",
       "      <td>0.0</td>\n",
       "      <td>0.0</td>\n",
       "      <td>0.0</td>\n",
       "      <td>0.0</td>\n",
       "      <td>0.0</td>\n",
       "    </tr>\n",
       "    <tr>\n",
       "      <th>1</th>\n",
       "      <td>0.0</td>\n",
       "      <td>0.0</td>\n",
       "      <td>0.0</td>\n",
       "      <td>0.0</td>\n",
       "      <td>0.0</td>\n",
       "      <td>0.0</td>\n",
       "      <td>0.0</td>\n",
       "      <td>0.0</td>\n",
       "      <td>0.0</td>\n",
       "      <td>0.0</td>\n",
       "      <td>...</td>\n",
       "      <td>0.0</td>\n",
       "      <td>0.0</td>\n",
       "      <td>0.0</td>\n",
       "      <td>0.0</td>\n",
       "      <td>0.0</td>\n",
       "      <td>0.0</td>\n",
       "      <td>0.0</td>\n",
       "      <td>0.0</td>\n",
       "      <td>0.0</td>\n",
       "      <td>0.0</td>\n",
       "    </tr>\n",
       "    <tr>\n",
       "      <th>2</th>\n",
       "      <td>0.0</td>\n",
       "      <td>0.0</td>\n",
       "      <td>0.0</td>\n",
       "      <td>0.0</td>\n",
       "      <td>0.0</td>\n",
       "      <td>0.0</td>\n",
       "      <td>0.0</td>\n",
       "      <td>0.0</td>\n",
       "      <td>0.0</td>\n",
       "      <td>0.0</td>\n",
       "      <td>...</td>\n",
       "      <td>0.0</td>\n",
       "      <td>0.0</td>\n",
       "      <td>0.0</td>\n",
       "      <td>0.0</td>\n",
       "      <td>0.0</td>\n",
       "      <td>0.0</td>\n",
       "      <td>0.0</td>\n",
       "      <td>0.0</td>\n",
       "      <td>0.0</td>\n",
       "      <td>0.0</td>\n",
       "    </tr>\n",
       "    <tr>\n",
       "      <th>3</th>\n",
       "      <td>0.0</td>\n",
       "      <td>0.0</td>\n",
       "      <td>0.0</td>\n",
       "      <td>0.0</td>\n",
       "      <td>0.0</td>\n",
       "      <td>0.0</td>\n",
       "      <td>0.0</td>\n",
       "      <td>0.0</td>\n",
       "      <td>0.0</td>\n",
       "      <td>0.0</td>\n",
       "      <td>...</td>\n",
       "      <td>0.0</td>\n",
       "      <td>0.0</td>\n",
       "      <td>0.0</td>\n",
       "      <td>0.0</td>\n",
       "      <td>0.0</td>\n",
       "      <td>0.0</td>\n",
       "      <td>0.0</td>\n",
       "      <td>0.0</td>\n",
       "      <td>0.0</td>\n",
       "      <td>0.0</td>\n",
       "    </tr>\n",
       "    <tr>\n",
       "      <th>4</th>\n",
       "      <td>0.0</td>\n",
       "      <td>0.0</td>\n",
       "      <td>0.0</td>\n",
       "      <td>0.0</td>\n",
       "      <td>0.0</td>\n",
       "      <td>0.0</td>\n",
       "      <td>0.0</td>\n",
       "      <td>0.0</td>\n",
       "      <td>0.0</td>\n",
       "      <td>0.0</td>\n",
       "      <td>...</td>\n",
       "      <td>0.0</td>\n",
       "      <td>0.0</td>\n",
       "      <td>0.0</td>\n",
       "      <td>0.0</td>\n",
       "      <td>0.0</td>\n",
       "      <td>0.0</td>\n",
       "      <td>0.0</td>\n",
       "      <td>0.0</td>\n",
       "      <td>0.0</td>\n",
       "      <td>0.0</td>\n",
       "    </tr>\n",
       "  </tbody>\n",
       "</table>\n",
       "<p>5 rows × 5000 columns</p>\n",
       "</div>"
      ],
      "text/plain": [
       "   able buy  able find  able get  able go  able order  able pick  able price  \\\n",
       "0       0.0        0.0       0.0      0.0         0.0        0.0         0.0   \n",
       "1       0.0        0.0       0.0      0.0         0.0        0.0         0.0   \n",
       "2       0.0        0.0       0.0      0.0         0.0        0.0         0.0   \n",
       "3       0.0        0.0       0.0      0.0         0.0        0.0         0.0   \n",
       "4       0.0        0.0       0.0      0.0         0.0        0.0         0.0   \n",
       "\n",
       "   able see  able snag  able use  ...  year worth  year would  year year  \\\n",
       "0       0.0        0.0       0.0  ...         0.0         0.0        0.0   \n",
       "1       0.0        0.0       0.0  ...         0.0         0.0        0.0   \n",
       "2       0.0        0.0       0.0  ...         0.0         0.0        0.0   \n",
       "3       0.0        0.0       0.0  ...         0.0         0.0        0.0   \n",
       "4       0.0        0.0       0.0  ...         0.0         0.0        0.0   \n",
       "\n",
       "   yes black  yes know  yes use  yes would  yet still  youtube com  zero dawn  \n",
       "0        0.0       0.0      0.0        0.0        0.0          0.0        0.0  \n",
       "1        0.0       0.0      0.0        0.0        0.0          0.0        0.0  \n",
       "2        0.0       0.0      0.0        0.0        0.0          0.0        0.0  \n",
       "3        0.0       0.0      0.0        0.0        0.0          0.0        0.0  \n",
       "4        0.0       0.0      0.0        0.0        0.0          0.0        0.0  \n",
       "\n",
       "[5 rows x 5000 columns]"
      ]
     },
     "execution_count": 107,
     "metadata": {},
     "output_type": "execute_result"
    }
   ],
   "source": [
    "bigrams_tfidf = pd.read_csv('bigrams_count_tfidf_lemmatized.csv')\n",
    "bigrams_tfidf.drop(['subreddit_id','var_year','score'], axis=1, inplace=True)\n",
    "bigrams_tfidf.head()"
   ]
  },
  {
   "cell_type": "code",
   "execution_count": 108,
   "metadata": {},
   "outputs": [
    {
     "data": {
      "image/png": "[encoded data removed]",
      "text/plain": [
       "<Figure size 640x480 with 1 Axes>"
      ]
     },
     "metadata": {},
     "output_type": "display_data"
    }
   ],
   "source": [
    "bigrams_tf = plot_kmeans_clusters(bigrams_tfidf, 'Bigram TF-IDF')"
   ]
  },
  {
   "cell_type": "code",
   "execution_count": 109,
   "metadata": {},
   "outputs": [
    {
     "data": {
      "text/plain": [
       "cluster\n",
       "0    38779\n",
       "1     8663\n",
       "2     1867\n",
       "Name: count, dtype: int64"
      ]
     },
     "execution_count": 109,
     "metadata": {},
     "output_type": "execute_result"
    }
   ],
   "source": [
    "bigrams_tf['cluster'].value_counts()"
   ]
  },
  {
   "cell_type": "code",
   "execution_count": 118,
   "metadata": {},
   "outputs": [
    {
     "name": "stdout",
     "output_type": "stream",
     "text": [
      "black friday deals hosting providers seo tools really good\n",
      "think taxact black friday deal\n",
      "black friday deals absolute garbage lmao rack price big day sell price originally\n",
      "-----------------------------------\n",
      "completely chance like prime day started wanted see deal one since missed one black friday notice cameras completely choked immediately started prime trial bought bundle\n",
      "like black friday advertise retail price discounted price people look actual price randomly times year thing really wanted fire stick\n",
      "bookshelf weighted blanket books going buy dad bed regret sure would like also wanted camera computer think might wait black friday\n",
      "happened last year black friday issued refund order stuff regular price received stuff contact refunded price difference reason could refund price difference received product\n"
     ]
    }
   ],
   "source": [
    "index = bigrams_tf[bigrams_tf['cluster'] == 1].index[10:13]\n",
    "for i in index:\n",
    "    print(originalPosts['body'][i])\n",
    "\n",
    "print(\"-----------------------------------\")\n",
    "#try new cluster\n",
    "index = bigrams_tf[bigrams_tf['cluster'] == 0].index[13:17]\n",
    "for i in index:\n",
    "    print(originalPosts['body'][i])\n"
   ]
  },
  {
   "cell_type": "markdown",
   "metadata": {},
   "source": [
    "Looking at the cluster compositions and the posts above, it is very hard to tell which cluster is for which sentiment; this gives evidence that k-means with bigrams is not performing well, thus I will not use it."
   ]
  },
  {
   "cell_type": "markdown",
   "metadata": {},
   "source": [
    "#### Trigram"
   ]
  },
  {
   "cell_type": "code",
   "execution_count": 43,
   "metadata": {},
   "outputs": [
    {
     "data": {
      "text/html": [
       "<div>\n",
       "<style scoped>\n",
       "    .dataframe tbody tr th:only-of-type {\n",
       "        vertical-align: middle;\n",
       "    }\n",
       "\n",
       "    .dataframe tbody tr th {\n",
       "        vertical-align: top;\n",
       "    }\n",
       "\n",
       "    .dataframe thead th {\n",
       "        text-align: right;\n",
       "    }\n",
       "</style>\n",
       "<table border=\"1\" class=\"dataframe\">\n",
       "  <thead>\n",
       "    <tr style=\"text-align: right;\">\n",
       "      <th></th>\n",
       "      <th>able add cart</th>\n",
       "      <th>able find anything</th>\n",
       "      <th>able get away</th>\n",
       "      <th>able get deal</th>\n",
       "      <th>able get one</th>\n",
       "      <th>able get price</th>\n",
       "      <th>able order one</th>\n",
       "      <th>able place order</th>\n",
       "      <th>able price match</th>\n",
       "      <th>able share information</th>\n",
       "      <th>...</th>\n",
       "      <th>year work retail</th>\n",
       "      <th>year work thanksgiving</th>\n",
       "      <th>year year ago</th>\n",
       "      <th>year year year</th>\n",
       "      <th>yes best buy</th>\n",
       "      <th>yes black friday</th>\n",
       "      <th>yesterday black friday</th>\n",
       "      <th>youtu http youtu</th>\n",
       "      <th>youtube com watch</th>\n",
       "      <th>zelda breath wild</th>\n",
       "    </tr>\n",
       "  </thead>\n",
       "  <tbody>\n",
       "    <tr>\n",
       "      <th>0</th>\n",
       "      <td>0.0</td>\n",
       "      <td>0.0</td>\n",
       "      <td>0.0</td>\n",
       "      <td>0.0</td>\n",
       "      <td>0.0</td>\n",
       "      <td>0.0</td>\n",
       "      <td>0.0</td>\n",
       "      <td>0.0</td>\n",
       "      <td>0.0</td>\n",
       "      <td>0.0</td>\n",
       "      <td>...</td>\n",
       "      <td>0.0</td>\n",
       "      <td>0.0</td>\n",
       "      <td>0.0</td>\n",
       "      <td>0.0</td>\n",
       "      <td>0.0</td>\n",
       "      <td>0.0</td>\n",
       "      <td>0.0</td>\n",
       "      <td>0.0</td>\n",
       "      <td>0.0</td>\n",
       "      <td>0.0</td>\n",
       "    </tr>\n",
       "    <tr>\n",
       "      <th>1</th>\n",
       "      <td>0.0</td>\n",
       "      <td>0.0</td>\n",
       "      <td>0.0</td>\n",
       "      <td>0.0</td>\n",
       "      <td>0.0</td>\n",
       "      <td>0.0</td>\n",
       "      <td>0.0</td>\n",
       "      <td>0.0</td>\n",
       "      <td>0.0</td>\n",
       "      <td>0.0</td>\n",
       "      <td>...</td>\n",
       "      <td>0.0</td>\n",
       "      <td>0.0</td>\n",
       "      <td>0.0</td>\n",
       "      <td>0.0</td>\n",
       "      <td>0.0</td>\n",
       "      <td>0.0</td>\n",
       "      <td>0.0</td>\n",
       "      <td>0.0</td>\n",
       "      <td>0.0</td>\n",
       "      <td>0.0</td>\n",
       "    </tr>\n",
       "    <tr>\n",
       "      <th>2</th>\n",
       "      <td>0.0</td>\n",
       "      <td>0.0</td>\n",
       "      <td>0.0</td>\n",
       "      <td>0.0</td>\n",
       "      <td>0.0</td>\n",
       "      <td>0.0</td>\n",
       "      <td>0.0</td>\n",
       "      <td>0.0</td>\n",
       "      <td>0.0</td>\n",
       "      <td>0.0</td>\n",
       "      <td>...</td>\n",
       "      <td>0.0</td>\n",
       "      <td>0.0</td>\n",
       "      <td>0.0</td>\n",
       "      <td>0.0</td>\n",
       "      <td>0.0</td>\n",
       "      <td>0.0</td>\n",
       "      <td>0.0</td>\n",
       "      <td>0.0</td>\n",
       "      <td>0.0</td>\n",
       "      <td>0.0</td>\n",
       "    </tr>\n",
       "    <tr>\n",
       "      <th>3</th>\n",
       "      <td>0.0</td>\n",
       "      <td>0.0</td>\n",
       "      <td>0.0</td>\n",
       "      <td>0.0</td>\n",
       "      <td>0.0</td>\n",
       "      <td>0.0</td>\n",
       "      <td>0.0</td>\n",
       "      <td>0.0</td>\n",
       "      <td>0.0</td>\n",
       "      <td>0.0</td>\n",
       "      <td>...</td>\n",
       "      <td>0.0</td>\n",
       "      <td>0.0</td>\n",
       "      <td>0.0</td>\n",
       "      <td>0.0</td>\n",
       "      <td>0.0</td>\n",
       "      <td>0.0</td>\n",
       "      <td>0.0</td>\n",
       "      <td>0.0</td>\n",
       "      <td>0.0</td>\n",
       "      <td>0.0</td>\n",
       "    </tr>\n",
       "    <tr>\n",
       "      <th>4</th>\n",
       "      <td>0.0</td>\n",
       "      <td>0.0</td>\n",
       "      <td>0.0</td>\n",
       "      <td>0.0</td>\n",
       "      <td>0.0</td>\n",
       "      <td>0.0</td>\n",
       "      <td>0.0</td>\n",
       "      <td>0.0</td>\n",
       "      <td>0.0</td>\n",
       "      <td>0.0</td>\n",
       "      <td>...</td>\n",
       "      <td>0.0</td>\n",
       "      <td>0.0</td>\n",
       "      <td>0.0</td>\n",
       "      <td>0.0</td>\n",
       "      <td>0.0</td>\n",
       "      <td>0.0</td>\n",
       "      <td>0.0</td>\n",
       "      <td>0.0</td>\n",
       "      <td>0.0</td>\n",
       "      <td>0.0</td>\n",
       "    </tr>\n",
       "  </tbody>\n",
       "</table>\n",
       "<p>5 rows × 5000 columns</p>\n",
       "</div>"
      ],
      "text/plain": [
       "   able add cart  able find anything  able get away  able get deal  \\\n",
       "0            0.0                 0.0            0.0            0.0   \n",
       "1            0.0                 0.0            0.0            0.0   \n",
       "2            0.0                 0.0            0.0            0.0   \n",
       "3            0.0                 0.0            0.0            0.0   \n",
       "4            0.0                 0.0            0.0            0.0   \n",
       "\n",
       "   able get one  able get price  able order one  able place order  \\\n",
       "0           0.0             0.0             0.0               0.0   \n",
       "1           0.0             0.0             0.0               0.0   \n",
       "2           0.0             0.0             0.0               0.0   \n",
       "3           0.0             0.0             0.0               0.0   \n",
       "4           0.0             0.0             0.0               0.0   \n",
       "\n",
       "   able price match  able share information  ...  year work retail  \\\n",
       "0               0.0                     0.0  ...               0.0   \n",
       "1               0.0                     0.0  ...               0.0   \n",
       "2               0.0                     0.0  ...               0.0   \n",
       "3               0.0                     0.0  ...               0.0   \n",
       "4               0.0                     0.0  ...               0.0   \n",
       "\n",
       "   year work thanksgiving  year year ago  year year year  yes best buy  \\\n",
       "0                     0.0            0.0             0.0           0.0   \n",
       "1                     0.0            0.0             0.0           0.0   \n",
       "2                     0.0            0.0             0.0           0.0   \n",
       "3                     0.0            0.0             0.0           0.0   \n",
       "4                     0.0            0.0             0.0           0.0   \n",
       "\n",
       "   yes black friday  yesterday black friday  youtu http youtu  \\\n",
       "0               0.0                     0.0               0.0   \n",
       "1               0.0                     0.0               0.0   \n",
       "2               0.0                     0.0               0.0   \n",
       "3               0.0                     0.0               0.0   \n",
       "4               0.0                     0.0               0.0   \n",
       "\n",
       "   youtube com watch  zelda breath wild  \n",
       "0                0.0                0.0  \n",
       "1                0.0                0.0  \n",
       "2                0.0                0.0  \n",
       "3                0.0                0.0  \n",
       "4                0.0                0.0  \n",
       "\n",
       "[5 rows x 5000 columns]"
      ]
     },
     "execution_count": 43,
     "metadata": {},
     "output_type": "execute_result"
    }
   ],
   "source": [
    "trigram_tfidf = pd.read_csv('trigrams_count_tfidf_lemmatized.csv')\n",
    "trigram_tfidf.drop(['subreddit_id','var_year','score'], axis=1, inplace=True)\n",
    "trigram_tfidf.head()"
   ]
  },
  {
   "cell_type": "code",
   "execution_count": 91,
   "metadata": {},
   "outputs": [
    {
     "data": {
      "image/png": "[encoded data removed]",
      "text/plain": [
       "<Figure size 640x480 with 1 Axes>"
      ]
     },
     "metadata": {},
     "output_type": "display_data"
    }
   ],
   "source": [
    "trigram_tf = plot_kmeans_clusters(trigram_tfidf, 'Trigram TF-IDF')"
   ]
  },
  {
   "cell_type": "code",
   "execution_count": 92,
   "metadata": {},
   "outputs": [
    {
     "data": {
      "text/plain": [
       "cluster\n",
       "0    47356\n",
       "1     1258\n",
       "2      695\n",
       "Name: count, dtype: int64"
      ]
     },
     "execution_count": 92,
     "metadata": {},
     "output_type": "execute_result"
    }
   ],
   "source": [
    "trigram_tf['cluster'].value_counts()"
   ]
  },
  {
   "cell_type": "markdown",
   "metadata": {},
   "source": [
    "Looking at the cluster compositions, it is clear to observe that k-means is not performing well with trigrams, thus no further experimenation with trigrams will be made."
   ]
  },
  {
   "cell_type": "markdown",
   "metadata": {},
   "source": [
    "#### (1:3)"
   ]
  },
  {
   "cell_type": "code",
   "execution_count": 110,
   "metadata": {},
   "outputs": [],
   "source": [
    "grams_tfidf = pd.read_csv(\"one_three_grams_count_tfidf_lemmatized.csv\")\n",
    "grams_tfidf.drop(['subreddit_id','var_year','score'], axis=1, inplace=True)\n"
   ]
  },
  {
   "cell_type": "code",
   "execution_count": 111,
   "metadata": {},
   "outputs": [
    {
     "data": {
      "image/png": "[encoded data removed]",
      "text/plain": [
       "<Figure size 640x480 with 1 Axes>"
      ]
     },
     "metadata": {},
     "output_type": "display_data"
    }
   ],
   "source": [
    "grams_tf = plot_kmeans_clusters(grams_tfidf, 'One to Three Grams TF-IDF')"
   ]
  },
  {
   "cell_type": "code",
   "execution_count": 112,
   "metadata": {},
   "outputs": [
    {
     "data": {
      "text/plain": [
       "cluster\n",
       "0    31979\n",
       "2    12929\n",
       "1     4401\n",
       "Name: count, dtype: int64"
      ]
     },
     "execution_count": 112,
     "metadata": {},
     "output_type": "execute_result"
    }
   ],
   "source": [
    "grams_tf['cluster'].value_counts()"
   ]
  },
  {
   "cell_type": "code",
   "execution_count": 142,
   "metadata": {},
   "outputs": [
    {
     "name": "stdout",
     "output_type": "stream",
     "text": [
      "understand people liking amazon think long term view amazon appreciated short view day shipping yes utterly amazing fast amazon compared anyone else country think people appreciate crunch days like cyber monday christmas etc view day shipping realize sometimes physically cannot achieve times day shipping sooner good day shipping something ordered always amazes many people get incredibly amazing service bad times everything done discredited useless company amp want say generation entitlement older guy always loved ordering online amazon literally god like world shipping remember ordering things like mugs mice waiting weeks years later people flipping amazon hours late usps delivery think need look long term benefits amazing things amazon prime gives day shipping almost tons music prime reading stuff audible photo storage free twitch prime spend anyone want got amazon prime card get cash back access lightning deals plus prime video everything ordered something cyber monday showed get days like hey really busy since cyber monday whatcha gonna remember good times amazon prime stop focusing short term view getting something days busiest time year black friday cyber monday ordering christmas amp\n",
      "recently signed trial membership amazon prime primarily order ipad last week get quicker would walmart go motions signing ordering ipad price walmart black friday special said done delivered days later prime delivery ticked ready make matters worse double charged two charges minutes phone amazon said bank fault minutes bank said amazon got standard drop business days luckily calling amazon removed second charge day later day delivery well guess fucking increased delivery another days fucking believe could ordered walmart would already never canceling subscription soon get ipad never ordering agree amazon video music great choice pay see movies tv albums worth\n",
      "gt free free included prime movies comes goes tv content tends stick around longer\n",
      "-----------------------------------\n",
      "gt missed hundreds cyber monday deals know deals scams tvs sold price later plus comparable tvs brands always cheaper still inside tvs components know ive torn enough apart\n",
      "ordered black friday deal arrived monday sitting hour half update amazon ups shipping get refund tomorrow really want item christmas present fine waiting item sold online get deal\n",
      "use alexa yeah spotify best paid music service hands know black friday deal look free services good thing came shitshow amazon discovered youtube music well newpipe ads background playing makes perfect listening phone\n",
      "definitely include excerpts research showing black friday deals usually deals example discounted computers usually contain generic low performing short lifetime partially gutted components list basic stats packaging also usually loaded gimped os pup adware also items really appear good deals usually small number stock sometimes dozen even though know hundreds people coming lure items\n"
     ]
    }
   ],
   "source": [
    "index = grams_tf[grams_tf['cluster'] == 0].index[3:6]\n",
    "for i in index:\n",
    "    print(originalPosts['body'][i])\n",
    "\n",
    "print(\"-----------------------------------\")\n",
    "#try new cluster\n",
    "index = grams_tf[grams_tf['cluster'] == 1].index[10:14]\n",
    "for i in index:\n",
    "    print(originalPosts['body'][i])\n"
   ]
  },
  {
   "cell_type": "code",
   "execution_count": 152,
   "metadata": {},
   "outputs": [
    {
     "name": "stdout",
     "output_type": "stream",
     "text": [
      "One to Three Grams TF-IDF Clustering Sentiment Similarity with VADER: 42.14%\n"
     ]
    }
   ],
   "source": [
    "grams_tf['cluster'] = grams_tf['cluster'].replace({0: 'Positive', 1: 'Neutral', 2: 'Negative'})\n",
    "similarity = accuracy_score(originalPosts['Sentiment'], grams_tf['cluster'])\n",
    "print(f'One to Three Grams TF-IDF Clustering Sentiment Similarity with VADER: {similarity * 100:.2f}%')"
   ]
  },
  {
   "cell_type": "markdown",
   "metadata": {},
   "source": [
    "The One to Three grams TF-IDF has a similiarity of 42.14% with the VADER algorithm, which is the highest of all (monogram, bigram, trigram, and (1:3)). Thus, I will be using the (1:3) k-means cluster labels to continue the analysis."
   ]
  },
  {
   "cell_type": "markdown",
   "metadata": {},
   "source": [
    "### Choosing the Model"
   ]
  },
  {
   "cell_type": "code",
   "execution_count": 153,
   "metadata": {},
   "outputs": [
    {
     "data": {
      "image/png": "[encoded data removed]",
      "text/plain": [
       "<Figure size 800x600 with 2 Axes>"
      ]
     },
     "metadata": {},
     "output_type": "display_data"
    }
   ],
   "source": [
    "# confusion matrix\n",
    "import seaborn as sns\n",
    "from sklearn.metrics import confusion_matrix\n",
    "confusion = confusion_matrix(originalPosts['Sentiment'], grams_tf['cluster'])\n",
    "\n",
    "plt.figure(figsize=(8, 6))\n",
    "sns.heatmap(confusion, annot=True, fmt='d', cmap='Blues', yticklabels=['Negative', 'Neutral', 'Positive'],xticklabels=['Positive', 'Neutral', 'Negative'])\n",
    "plt.xlabel('K-means Label')\n",
    "plt.ylabel('VADER Label')\n",
    "plt.title('Confusion Matrix')\n",
    "plt.show()"
   ]
  },
  {
   "cell_type": "markdown",
   "metadata": {},
   "source": [
    "From the confusion matrix, we can see that most of the dissimilarities in classification happens in cases where k-means predicts negative while the VADER predicts positive or Neutral. The dissimilarity in just the negative class contributes to about 50% of the dissimilarity between both models. Thus, I will do a manual check to compare about 10 posts that are classified as negative by K-means, against what VADER classifies them. Accordingly, I will take the decision on which model's sentiment I will use."
   ]
  },
  {
   "cell_type": "code",
   "execution_count": 156,
   "metadata": {},
   "outputs": [
    {
     "name": "stdout",
     "output_type": "stream",
     "text": [
      "K-Means:  Negative\n",
      "VADER:  Positive\n",
      "pretty sure like black friday liquidation sales people go nuts buy things even need want psychologically think afford\n",
      "-----------------------------------\n",
      "K-Means:  Negative\n",
      "VADER:  Neutral\n",
      "black friday probably\n",
      "-----------------------------------\n",
      "K-Means:  Negative\n",
      "VADER:  Positive\n",
      "question guess especially black friday cyber monday seems like want new stuff buying gifts stuff buying\n",
      "-----------------------------------\n",
      "K-Means:  Negative\n",
      "VADER:  Positive\n",
      "ordered two slamballs black friday originally scheduled arrive monday delayed tuesday despite order tracker saying delivery monday okay though black friday crazy shipping time amazon accurate shipping commitments time get pay free two day shipping one day delay blue moon within tolerance\n",
      "-----------------------------------\n",
      "K-Means:  Negative\n",
      "VADER:  Positive\n",
      "someone orders amazon min twice week say year pretty timely past week orders started taking bit longer process ship arrive expected around holidays obviously black friday new year\n",
      "-----------------------------------\n",
      "K-Means:  Negative\n",
      "VADER:  Positive\n",
      "prime membership ends january even though find quite bit enjoy watch prime video many weeks seen appeals go monthly stick stuff cart wishlist accrue enough stuff join month catch videos join july november sure prime day black friday sales streaming services showtime hbo hulu netflix watch months cancel eligible free intro periods register less year\n",
      "-----------------------------------\n",
      "K-Means:  Negative\n",
      "VADER:  Neutral\n",
      "wait black friday blu ray way cheaper\n",
      "-----------------------------------\n",
      "K-Means:  Negative\n",
      "VADER:  Neutral\n",
      "like black friday advertise retail price discounted price people look actual price randomly times year thing really wanted fire stick\n",
      "-----------------------------------\n",
      "K-Means:  Negative\n",
      "VADER:  Positive\n",
      "oh ok usually pick blu rays black friday newer movies\n",
      "-----------------------------------\n",
      "K-Means:  Negative\n",
      "VADER:  Positive\n",
      "bookshelf weighted blanket books going buy dad bed regret sure would like also wanted camera computer think might wait black friday\n",
      "-----------------------------------\n",
      "K-Means:  Negative\n",
      "VADER:  Positive\n",
      "nothing see anything worthwhile decided save black friday real sales happen\n",
      "-----------------------------------\n"
     ]
    }
   ],
   "source": [
    "count = 0\n",
    "for i in range(len(grams_tf)):\n",
    "    if grams_tf['cluster'][i] != originalPosts['Sentiment'][i] and grams_tf['cluster'][i] == 'Negative':\n",
    "        print(\"K-Means: \", grams_tf['cluster'][i])\n",
    "        print(\"VADER: \",originalPosts['Sentiment'][i])\n",
    "        print(originalPosts['body'][i])\n",
    "        print('-----------------------------------')\n",
    "        if count == 10:\n",
    "            break\n",
    "        count += 1"
   ]
  },
  {
   "cell_type": "markdown",
   "metadata": {},
   "source": [
    "Looking at this sample of comments, I can see that the VADER labels are generally more representitive of the actual sentiment of the comments, thus I will use the vader sentiments as the final sentiments for the next steps."
   ]
  },
  {
   "cell_type": "code",
   "execution_count": 5,
   "metadata": {},
   "outputs": [],
   "source": [
    "originalPosts.to_csv('Vader_Posts_sentiment.csv')"
   ]
  }
 ],
 "metadata": {
  "kernelspec": {
   "display_name": "base",
   "language": "python",
   "name": "python3"
  },
  "language_info": {
   "codemirror_mode": {
    "name": "ipython",
    "version": 3
   },
   "file_extension": ".py",
   "mimetype": "text/x-python",
   "name": "python",
   "nbconvert_exporter": "python",
   "pygments_lexer": "ipython3",
   "version": "3.10.9"
  }
 },
 "nbformat": 4,
 "nbformat_minor": 2
}
